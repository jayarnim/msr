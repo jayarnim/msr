{
 "cells": [
  {
   "cell_type": "markdown",
   "metadata": {},
   "source": [
    "# Config"
   ]
  },
  {
   "cell_type": "code",
   "execution_count": 14,
   "metadata": {},
   "outputs": [],
   "source": [
    "import pandas as pd\n",
    "from datetime import datetime, timedelta\n",
    "import warnings\n",
    "warnings.filterwarnings(\"ignore\")\n",
    "\n",
    "from msr.python_splitters import (\n",
    "    python_random_split, \n",
    "    python_chrono_split, \n",
    "    python_stratified_split\n",
    ")"
   ]
  },
  {
   "cell_type": "code",
   "execution_count": 2,
   "metadata": {},
   "outputs": [],
   "source": [
    "COL_USER = \"userId\"\n",
    "COL_ITEM = \"movieId\"\n",
    "COL_RATING = \"rating\"\n",
    "COL_TIMESTAMP = \"timestamp\""
   ]
  },
  {
   "cell_type": "markdown",
   "metadata": {},
   "source": [
    "# Data Preparation"
   ]
  },
  {
   "cell_type": "code",
   "execution_count": 3,
   "metadata": {},
   "outputs": [],
   "source": [
    "data = pd.read_csv(\"./data/ratings.csv\")"
   ]
  },
  {
   "cell_type": "code",
   "execution_count": null,
   "metadata": {},
   "outputs": [],
   "source": [
    "data[COL_TIMESTAMP] = data.apply(\n",
    "    lambda x: datetime.strftime(\n",
    "        datetime(1970, 1, 1, 0, 0, 0) + timedelta(seconds=x[COL_TIMESTAMP].item()), \n",
    "        \"%Y-%m-%d %H:%M:%S\"\n",
    "        ),\n",
    "    axis=1\n",
    ")"
   ]
  },
  {
   "cell_type": "markdown",
   "metadata": {},
   "source": [
    "# Random Split"
   ]
  },
  {
   "cell_type": "markdown",
   "metadata": {},
   "source": [
    "## 2분할"
   ]
  },
  {
   "cell_type": "code",
   "execution_count": 25,
   "metadata": {},
   "outputs": [],
   "source": [
    "data_train, data_test = python_random_split(data, ratio=0.9)"
   ]
  },
  {
   "cell_type": "code",
   "execution_count": 27,
   "metadata": {},
   "outputs": [
    {
     "data": {
      "text/html": [
       "<div>\n",
       "<style scoped>\n",
       "    .dataframe tbody tr th:only-of-type {\n",
       "        vertical-align: middle;\n",
       "    }\n",
       "\n",
       "    .dataframe tbody tr th {\n",
       "        vertical-align: top;\n",
       "    }\n",
       "\n",
       "    .dataframe thead th {\n",
       "        text-align: right;\n",
       "    }\n",
       "</style>\n",
       "<table border=\"1\" class=\"dataframe\">\n",
       "  <thead>\n",
       "    <tr style=\"text-align: right;\">\n",
       "      <th></th>\n",
       "      <th>userId</th>\n",
       "      <th>movieId</th>\n",
       "      <th>rating</th>\n",
       "      <th>timestamp</th>\n",
       "    </tr>\n",
       "  </thead>\n",
       "  <tbody>\n",
       "    <tr>\n",
       "      <th>14430</th>\n",
       "      <td>91</td>\n",
       "      <td>1829</td>\n",
       "      <td>2.0</td>\n",
       "      <td>2005-04-05 15:58:44</td>\n",
       "    </tr>\n",
       "    <tr>\n",
       "      <th>43498</th>\n",
       "      <td>292</td>\n",
       "      <td>98</td>\n",
       "      <td>2.0</td>\n",
       "      <td>2010-02-09 01:49:19</td>\n",
       "    </tr>\n",
       "    <tr>\n",
       "      <th>73590</th>\n",
       "      <td>474</td>\n",
       "      <td>1321</td>\n",
       "      <td>3.5</td>\n",
       "      <td>2003-05-15 17:57:35</td>\n",
       "    </tr>\n",
       "    <tr>\n",
       "      <th>19181</th>\n",
       "      <td>124</td>\n",
       "      <td>97</td>\n",
       "      <td>3.5</td>\n",
       "      <td>2012-05-09 17:25:26</td>\n",
       "    </tr>\n",
       "    <tr>\n",
       "      <th>97254</th>\n",
       "      <td>605</td>\n",
       "      <td>3571</td>\n",
       "      <td>2.5</td>\n",
       "      <td>2010-06-22 03:21:21</td>\n",
       "    </tr>\n",
       "    <tr>\n",
       "      <th>3660</th>\n",
       "      <td>21</td>\n",
       "      <td>9445</td>\n",
       "      <td>3.0</td>\n",
       "      <td>2017-07-22 05:32:39</td>\n",
       "    </tr>\n",
       "    <tr>\n",
       "      <th>84414</th>\n",
       "      <td>542</td>\n",
       "      <td>43</td>\n",
       "      <td>5.0</td>\n",
       "      <td>2006-11-13 03:01:53</td>\n",
       "    </tr>\n",
       "    <tr>\n",
       "      <th>71070</th>\n",
       "      <td>453</td>\n",
       "      <td>2802</td>\n",
       "      <td>5.0</td>\n",
       "      <td>2000-10-27 04:37:55</td>\n",
       "    </tr>\n",
       "    <tr>\n",
       "      <th>73420</th>\n",
       "      <td>474</td>\n",
       "      <td>912</td>\n",
       "      <td>4.0</td>\n",
       "      <td>2006-03-30 01:51:22</td>\n",
       "    </tr>\n",
       "    <tr>\n",
       "      <th>23224</th>\n",
       "      <td>159</td>\n",
       "      <td>9256</td>\n",
       "      <td>4.5</td>\n",
       "      <td>2017-10-22 02:59:57</td>\n",
       "    </tr>\n",
       "  </tbody>\n",
       "</table>\n",
       "</div>"
      ],
      "text/plain": [
       "       userId  movieId  rating            timestamp\n",
       "14430      91     1829     2.0  2005-04-05 15:58:44\n",
       "43498     292       98     2.0  2010-02-09 01:49:19\n",
       "73590     474     1321     3.5  2003-05-15 17:57:35\n",
       "19181     124       97     3.5  2012-05-09 17:25:26\n",
       "97254     605     3571     2.5  2010-06-22 03:21:21\n",
       "3660       21     9445     3.0  2017-07-22 05:32:39\n",
       "84414     542       43     5.0  2006-11-13 03:01:53\n",
       "71070     453     2802     5.0  2000-10-27 04:37:55\n",
       "73420     474      912     4.0  2006-03-30 01:51:22\n",
       "23224     159     9256     4.5  2017-10-22 02:59:57"
      ]
     },
     "execution_count": 27,
     "metadata": {},
     "output_type": "execute_result"
    }
   ],
   "source": [
    "data_train.head(10)"
   ]
  },
  {
   "cell_type": "code",
   "execution_count": 28,
   "metadata": {},
   "outputs": [
    {
     "data": {
      "text/html": [
       "<div>\n",
       "<style scoped>\n",
       "    .dataframe tbody tr th:only-of-type {\n",
       "        vertical-align: middle;\n",
       "    }\n",
       "\n",
       "    .dataframe tbody tr th {\n",
       "        vertical-align: top;\n",
       "    }\n",
       "\n",
       "    .dataframe thead th {\n",
       "        text-align: right;\n",
       "    }\n",
       "</style>\n",
       "<table border=\"1\" class=\"dataframe\">\n",
       "  <thead>\n",
       "    <tr style=\"text-align: right;\">\n",
       "      <th></th>\n",
       "      <th>userId</th>\n",
       "      <th>movieId</th>\n",
       "      <th>rating</th>\n",
       "      <th>timestamp</th>\n",
       "    </tr>\n",
       "  </thead>\n",
       "  <tbody>\n",
       "    <tr>\n",
       "      <th>67037</th>\n",
       "      <td>432</td>\n",
       "      <td>7316</td>\n",
       "      <td>4.5</td>\n",
       "      <td>2012-04-23 00:07:21</td>\n",
       "    </tr>\n",
       "    <tr>\n",
       "      <th>42175</th>\n",
       "      <td>288</td>\n",
       "      <td>412</td>\n",
       "      <td>3.0</td>\n",
       "      <td>2001-01-02 19:59:25</td>\n",
       "    </tr>\n",
       "    <tr>\n",
       "      <th>93850</th>\n",
       "      <td>599</td>\n",
       "      <td>3217</td>\n",
       "      <td>3.0</td>\n",
       "      <td>2017-06-27 00:49:02</td>\n",
       "    </tr>\n",
       "    <tr>\n",
       "      <th>6187</th>\n",
       "      <td>42</td>\n",
       "      <td>2248</td>\n",
       "      <td>4.0</td>\n",
       "      <td>2001-07-27 19:37:57</td>\n",
       "    </tr>\n",
       "    <tr>\n",
       "      <th>12229</th>\n",
       "      <td>75</td>\n",
       "      <td>1210</td>\n",
       "      <td>4.0</td>\n",
       "      <td>2006-09-23 05:37:21</td>\n",
       "    </tr>\n",
       "    <tr>\n",
       "      <th>7433</th>\n",
       "      <td>51</td>\n",
       "      <td>149</td>\n",
       "      <td>4.0</td>\n",
       "      <td>2009-01-02 21:10:34</td>\n",
       "    </tr>\n",
       "    <tr>\n",
       "      <th>53802</th>\n",
       "      <td>354</td>\n",
       "      <td>6416</td>\n",
       "      <td>3.5</td>\n",
       "      <td>2008-01-20 22:58:50</td>\n",
       "    </tr>\n",
       "    <tr>\n",
       "      <th>65098</th>\n",
       "      <td>416</td>\n",
       "      <td>602</td>\n",
       "      <td>4.5</td>\n",
       "      <td>2007-08-19 03:54:19</td>\n",
       "    </tr>\n",
       "    <tr>\n",
       "      <th>68041</th>\n",
       "      <td>438</td>\n",
       "      <td>4403</td>\n",
       "      <td>0.5</td>\n",
       "      <td>2005-01-13 22:11:59</td>\n",
       "    </tr>\n",
       "    <tr>\n",
       "      <th>11854</th>\n",
       "      <td>73</td>\n",
       "      <td>5253</td>\n",
       "      <td>3.5</td>\n",
       "      <td>2016-05-25 17:39:38</td>\n",
       "    </tr>\n",
       "  </tbody>\n",
       "</table>\n",
       "</div>"
      ],
      "text/plain": [
       "       userId  movieId  rating            timestamp\n",
       "67037     432     7316     4.5  2012-04-23 00:07:21\n",
       "42175     288      412     3.0  2001-01-02 19:59:25\n",
       "93850     599     3217     3.0  2017-06-27 00:49:02\n",
       "6187       42     2248     4.0  2001-07-27 19:37:57\n",
       "12229      75     1210     4.0  2006-09-23 05:37:21\n",
       "7433       51      149     4.0  2009-01-02 21:10:34\n",
       "53802     354     6416     3.5  2008-01-20 22:58:50\n",
       "65098     416      602     4.5  2007-08-19 03:54:19\n",
       "68041     438     4403     0.5  2005-01-13 22:11:59\n",
       "11854      73     5253     3.5  2016-05-25 17:39:38"
      ]
     },
     "execution_count": 28,
     "metadata": {},
     "output_type": "execute_result"
    }
   ],
   "source": [
    "data_test.head(10)"
   ]
  },
  {
   "cell_type": "code",
   "execution_count": 29,
   "metadata": {},
   "outputs": [
    {
     "data": {
      "text/plain": [
       "(90752, 10084)"
      ]
     },
     "execution_count": 29,
     "metadata": {},
     "output_type": "execute_result"
    }
   ],
   "source": [
    "data_train.shape[0], data_test.shape[0]"
   ]
  },
  {
   "cell_type": "code",
   "execution_count": 30,
   "metadata": {},
   "outputs": [
    {
     "data": {
      "text/plain": [
       "{138, 158, 257, 375, 392, 496, 578}"
      ]
     },
     "execution_count": 30,
     "metadata": {},
     "output_type": "execute_result"
    }
   ],
   "source": [
    "set(data_train.userId) - set(data_test.userId)"
   ]
  },
  {
   "cell_type": "markdown",
   "metadata": {},
   "source": [
    "## 다중 분할"
   ]
  },
  {
   "cell_type": "code",
   "execution_count": 31,
   "metadata": {},
   "outputs": [],
   "source": [
    "data_train, data_validate, data_test = python_random_split(data, ratio=[0.6, 0.2, 0.2])"
   ]
  },
  {
   "cell_type": "code",
   "execution_count": 32,
   "metadata": {},
   "outputs": [
    {
     "data": {
      "text/plain": [
       "(60502, 20167, 20167)"
      ]
     },
     "execution_count": 32,
     "metadata": {},
     "output_type": "execute_result"
    }
   ],
   "source": [
    "data_train.shape[0], data_validate.shape[0], data_test.shape[0]"
   ]
  },
  {
   "cell_type": "markdown",
   "metadata": {},
   "source": [
    "## 정수 분할"
   ]
  },
  {
   "cell_type": "code",
   "execution_count": 33,
   "metadata": {},
   "outputs": [],
   "source": [
    "data_train, data_validate, data_test = python_random_split(data, ratio=[3, 1, 1])"
   ]
  },
  {
   "cell_type": "code",
   "execution_count": 34,
   "metadata": {},
   "outputs": [
    {
     "data": {
      "text/plain": [
       "(60502, 20167, 20167)"
      ]
     },
     "execution_count": 34,
     "metadata": {},
     "output_type": "execute_result"
    }
   ],
   "source": [
    "data_train.shape[0], data_validate.shape[0], data_test.shape[0]"
   ]
  },
  {
   "cell_type": "markdown",
   "metadata": {},
   "source": [
    "# Chronological Split"
   ]
  },
  {
   "cell_type": "code",
   "execution_count": 35,
   "metadata": {},
   "outputs": [],
   "source": [
    "data_train, data_test = python_chrono_split(\n",
    "    data,\n",
    "    ratio=0.7,\n",
    "    filter_by=\"user\",\n",
    "    col_user=COL_USER,\n",
    "    col_item=COL_ITEM,\n",
    "    col_timestamp=COL_TIMESTAMP\n",
    ")"
   ]
  },
  {
   "cell_type": "code",
   "execution_count": null,
   "metadata": {},
   "outputs": [
    {
     "data": {
      "text/html": [
       "<div>\n",
       "<style scoped>\n",
       "    .dataframe tbody tr th:only-of-type {\n",
       "        vertical-align: middle;\n",
       "    }\n",
       "\n",
       "    .dataframe tbody tr th {\n",
       "        vertical-align: top;\n",
       "    }\n",
       "\n",
       "    .dataframe thead th {\n",
       "        text-align: right;\n",
       "    }\n",
       "</style>\n",
       "<table border=\"1\" class=\"dataframe\">\n",
       "  <thead>\n",
       "    <tr style=\"text-align: right;\">\n",
       "      <th></th>\n",
       "      <th>userId</th>\n",
       "      <th>movieId</th>\n",
       "      <th>rating</th>\n",
       "      <th>timestamp</th>\n",
       "    </tr>\n",
       "  </thead>\n",
       "  <tbody>\n",
       "    <tr>\n",
       "      <th>56</th>\n",
       "      <td>1</td>\n",
       "      <td>789</td>\n",
       "      <td>5.0</td>\n",
       "      <td>2000-07-30 18:46:31</td>\n",
       "    </tr>\n",
       "    <tr>\n",
       "      <th>138</th>\n",
       "      <td>1</td>\n",
       "      <td>1598</td>\n",
       "      <td>5.0</td>\n",
       "      <td>2000-07-30 18:47:18</td>\n",
       "    </tr>\n",
       "    <tr>\n",
       "      <th>127</th>\n",
       "      <td>1</td>\n",
       "      <td>1542</td>\n",
       "      <td>5.0</td>\n",
       "      <td>2000-07-30 18:47:18</td>\n",
       "    </tr>\n",
       "    <tr>\n",
       "      <th>38</th>\n",
       "      <td>1</td>\n",
       "      <td>551</td>\n",
       "      <td>5.0</td>\n",
       "      <td>2000-07-30 18:47:18</td>\n",
       "    </tr>\n",
       "    <tr>\n",
       "      <th>131</th>\n",
       "      <td>1</td>\n",
       "      <td>1558</td>\n",
       "      <td>4.0</td>\n",
       "      <td>2000-07-30 18:47:18</td>\n",
       "    </tr>\n",
       "    <tr>\n",
       "      <th>35</th>\n",
       "      <td>1</td>\n",
       "      <td>513</td>\n",
       "      <td>5.0</td>\n",
       "      <td>2000-07-30 18:47:18</td>\n",
       "    </tr>\n",
       "    <tr>\n",
       "      <th>128</th>\n",
       "      <td>1</td>\n",
       "      <td>1552</td>\n",
       "      <td>5.0</td>\n",
       "      <td>2000-07-30 18:47:18</td>\n",
       "    </tr>\n",
       "    <tr>\n",
       "      <th>53</th>\n",
       "      <td>1</td>\n",
       "      <td>786</td>\n",
       "      <td>5.0</td>\n",
       "      <td>2000-07-30 18:47:35</td>\n",
       "    </tr>\n",
       "    <tr>\n",
       "      <th>51</th>\n",
       "      <td>1</td>\n",
       "      <td>782</td>\n",
       "      <td>5.0</td>\n",
       "      <td>2000-07-30 18:47:56</td>\n",
       "    </tr>\n",
       "    <tr>\n",
       "      <th>135</th>\n",
       "      <td>1</td>\n",
       "      <td>1576</td>\n",
       "      <td>5.0</td>\n",
       "      <td>2000-07-30 18:47:56</td>\n",
       "    </tr>\n",
       "  </tbody>\n",
       "</table>\n",
       "</div>"
      ],
      "text/plain": [
       "     userId  movieId  rating            timestamp\n",
       "56        1      789     5.0  2000-07-30 18:46:31\n",
       "138       1     1598     5.0  2000-07-30 18:47:18\n",
       "127       1     1542     5.0  2000-07-30 18:47:18\n",
       "38        1      551     5.0  2000-07-30 18:47:18\n",
       "131       1     1558     4.0  2000-07-30 18:47:18\n",
       "35        1      513     5.0  2000-07-30 18:47:18\n",
       "128       1     1552     5.0  2000-07-30 18:47:18\n",
       "53        1      786     5.0  2000-07-30 18:47:35\n",
       "51        1      782     5.0  2000-07-30 18:47:56\n",
       "135       1     1576     5.0  2000-07-30 18:47:56"
      ]
     },
     "execution_count": 36,
     "metadata": {},
     "output_type": "execute_result"
    }
   ],
   "source": [
    "data_train[data_train[COL_USER] == 1].head(10)"
   ]
  },
  {
   "cell_type": "code",
   "execution_count": null,
   "metadata": {},
   "outputs": [
    {
     "data": {
      "text/html": [
       "<div>\n",
       "<style scoped>\n",
       "    .dataframe tbody tr th:only-of-type {\n",
       "        vertical-align: middle;\n",
       "    }\n",
       "\n",
       "    .dataframe tbody tr th {\n",
       "        vertical-align: top;\n",
       "    }\n",
       "\n",
       "    .dataframe thead th {\n",
       "        text-align: right;\n",
       "    }\n",
       "</style>\n",
       "<table border=\"1\" class=\"dataframe\">\n",
       "  <thead>\n",
       "    <tr style=\"text-align: right;\">\n",
       "      <th></th>\n",
       "      <th>userId</th>\n",
       "      <th>movieId</th>\n",
       "      <th>rating</th>\n",
       "      <th>timestamp</th>\n",
       "    </tr>\n",
       "  </thead>\n",
       "  <tbody>\n",
       "    <tr>\n",
       "      <th>230</th>\n",
       "      <td>1</td>\n",
       "      <td>2987</td>\n",
       "      <td>4.0</td>\n",
       "      <td>2000-07-30 18:48:23</td>\n",
       "    </tr>\n",
       "    <tr>\n",
       "      <th>122</th>\n",
       "      <td>1</td>\n",
       "      <td>1504</td>\n",
       "      <td>5.0</td>\n",
       "      <td>2000-07-30 18:48:23</td>\n",
       "    </tr>\n",
       "    <tr>\n",
       "      <th>54</th>\n",
       "      <td>1</td>\n",
       "      <td>787</td>\n",
       "      <td>3.0</td>\n",
       "      <td>2000-07-30 18:48:23</td>\n",
       "    </tr>\n",
       "    <tr>\n",
       "      <th>4</th>\n",
       "      <td>1</td>\n",
       "      <td>46</td>\n",
       "      <td>5.0</td>\n",
       "      <td>2000-07-30 18:48:51</td>\n",
       "    </tr>\n",
       "    <tr>\n",
       "      <th>36</th>\n",
       "      <td>1</td>\n",
       "      <td>520</td>\n",
       "      <td>5.0</td>\n",
       "      <td>2000-07-30 18:48:51</td>\n",
       "    </tr>\n",
       "    <tr>\n",
       "      <th>74</th>\n",
       "      <td>1</td>\n",
       "      <td>913</td>\n",
       "      <td>5.0</td>\n",
       "      <td>2000-07-30 18:49:11</td>\n",
       "    </tr>\n",
       "    <tr>\n",
       "      <th>103</th>\n",
       "      <td>1</td>\n",
       "      <td>1217</td>\n",
       "      <td>5.0</td>\n",
       "      <td>2000-07-30 18:49:11</td>\n",
       "    </tr>\n",
       "    <tr>\n",
       "      <th>62</th>\n",
       "      <td>1</td>\n",
       "      <td>827</td>\n",
       "      <td>5.0</td>\n",
       "      <td>2000-07-30 18:49:11</td>\n",
       "    </tr>\n",
       "    <tr>\n",
       "      <th>16</th>\n",
       "      <td>1</td>\n",
       "      <td>257</td>\n",
       "      <td>3.0</td>\n",
       "      <td>2000-07-30 18:49:27</td>\n",
       "    </tr>\n",
       "    <tr>\n",
       "      <th>144</th>\n",
       "      <td>1</td>\n",
       "      <td>1686</td>\n",
       "      <td>4.0</td>\n",
       "      <td>2000-07-30 18:49:49</td>\n",
       "    </tr>\n",
       "  </tbody>\n",
       "</table>\n",
       "</div>"
      ],
      "text/plain": [
       "     userId  movieId  rating            timestamp\n",
       "230       1     2987     4.0  2000-07-30 18:48:23\n",
       "122       1     1504     5.0  2000-07-30 18:48:23\n",
       "54        1      787     3.0  2000-07-30 18:48:23\n",
       "4         1       46     5.0  2000-07-30 18:48:51\n",
       "36        1      520     5.0  2000-07-30 18:48:51\n",
       "74        1      913     5.0  2000-07-30 18:49:11\n",
       "103       1     1217     5.0  2000-07-30 18:49:11\n",
       "62        1      827     5.0  2000-07-30 18:49:11\n",
       "16        1      257     3.0  2000-07-30 18:49:27\n",
       "144       1     1686     4.0  2000-07-30 18:49:49"
      ]
     },
     "execution_count": 37,
     "metadata": {},
     "output_type": "execute_result"
    }
   ],
   "source": [
    "data_test[data_test[COL_USER] == 1].tail(10)"
   ]
  },
  {
   "cell_type": "code",
   "execution_count": 38,
   "metadata": {},
   "outputs": [
    {
     "data": {
      "text/plain": [
       "set()"
      ]
     },
     "execution_count": 38,
     "metadata": {},
     "output_type": "execute_result"
    }
   ],
   "source": [
    "set(data_train.userId) - set(data_test.userId)"
   ]
  },
  {
   "cell_type": "markdown",
   "metadata": {},
   "source": [
    "# Stratified Split"
   ]
  },
  {
   "cell_type": "code",
   "execution_count": 39,
   "metadata": {},
   "outputs": [],
   "source": [
    "data_train, data_test = python_stratified_split(\n",
    "    data,\n",
    "    filter_by=\"user\",\n",
    "    ratio=0.7,\n",
    "    col_user=COL_USER,\n",
    "    col_item=COL_ITEM\n",
    ")"
   ]
  },
  {
   "cell_type": "code",
   "execution_count": null,
   "metadata": {},
   "outputs": [],
   "source": [
    "data_train[data_train[COL_USER] == 1].head(10)"
   ]
  },
  {
   "cell_type": "code",
   "execution_count": null,
   "metadata": {},
   "outputs": [],
   "source": [
    "data_train[data_train[COL_USER] == 1].tail(10)"
   ]
  },
  {
   "cell_type": "code",
   "execution_count": null,
   "metadata": {},
   "outputs": [],
   "source": [
    "set(data_train.userId) - set(data_test.userId)"
   ]
  }
 ],
 "metadata": {
  "kernelspec": {
   "display_name": "Python 3",
   "language": "python",
   "name": "python3"
  },
  "language_info": {
   "codemirror_mode": {
    "name": "ipython",
    "version": 3
   },
   "file_extension": ".py",
   "mimetype": "text/x-python",
   "name": "python",
   "nbconvert_exporter": "python",
   "pygments_lexer": "ipython3",
   "version": "3.11.5"
  }
 },
 "nbformat": 4,
 "nbformat_minor": 2
}
